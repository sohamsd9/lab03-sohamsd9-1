{
 "cells": [
  {
   "cell_type": "code",
   "execution_count": 1,
   "id": "0632556a",
   "metadata": {},
   "outputs": [],
   "source": [
    "import os \n",
    "import sys\n",
    "import pandas as pd\n",
    "from pyspark.sql import SparkSession\n",
    "from pyspark.sql.functions import col\n",
    "from pathlib import Path\n"
   ]
  },
  {
   "cell_type": "code",
   "execution_count": 2,
   "id": "6a4a9536",
   "metadata": {},
   "outputs": [
    {
     "name": "stderr",
     "output_type": "stream",
     "text": [
      "WARNING: Using incubator modules: jdk.incubator.vector\n",
      "Using Spark's default log4j profile: org/apache/spark/log4j2-defaults.properties\n",
      "Setting default log level to \"WARN\".\n",
      "To adjust logging level use sc.setLogLevel(newLevel). For SparkR, use setLogLevel(newLevel).\n",
      "25/10/16 05:14:59 WARN NativeCodeLoader: Unable to load native-hadoop library for your platform... using builtin-java classes where applicable\n",
      "                                                                                \r"
     ]
    }
   ],
   "source": [
    "\n",
    "spark = SparkSession.builder.appName(\"JobPostingsAnalysis\").getOrCreate()\n",
    "df = spark.read.option(\"header\", \"true\").option(\"inferSchema\", \"true\").option(\"multiLine\",\"true\").option(\"escape\", \"\\\"\").csv(\"lightcast_job_postings.csv\")\n",
    "\n",
    "OUTPUT_DIR = \"solution\"\n",
    "Path(OUTPUT_DIR).mkdir(exist_ok=True)"
   ]
  },
  {
   "cell_type": "code",
   "execution_count": 3,
   "id": "c7796303",
   "metadata": {},
   "outputs": [
    {
     "name": "stderr",
     "output_type": "stream",
     "text": [
      "                                                                                \r"
     ]
    }
   ],
   "source": [
    "company_df = df.select(\n",
    "    col(\"COMPANY\").alias(\"COMPANY_ID\"),  \n",
    "    col(\"COMPANY_NAME\").alias(\"COMPANY_NAME\"),\n",
    "    col(\"COMPANY_RAW\").alias(\"COMPANY_RAW\"),\n",
    "    col(\"COMPANY_IS_STAFFING\").alias(\"COMPANY_IS_STAFFING\")\n",
    ").distinct()\n",
    "company_df.toPandas().to_csv(f\"{OUTPUT_DIR}/company.csv\", index=False)"
   ]
  },
  {
   "cell_type": "code",
   "execution_count": 4,
   "id": "f5df5c48",
   "metadata": {},
   "outputs": [
    {
     "name": "stderr",
     "output_type": "stream",
     "text": [
      "                                                                                \r"
     ]
    }
   ],
   "source": [
    "job_postings_df = df.select(\n",
    "    col(\"ID\").alias(\"JOB_ID\"),\n",
    "    col(\"TITLE_RAW\").alias(\"TITLE_RAW\"),\n",
    "    col(\"TITLE_CLEAN\").alias(\"TITLE_CLEAN\"),\n",
    "    col(\"POSTED\").alias(\"POSTED\"),\n",
    "    col(\"EXPIRED\").alias(\"EXPIRED\"),\n",
    "    col(\"SALARY_FROM\").alias(\"SALARY_FROM\"),\n",
    "    col(\"SALARY_TO\").alias(\"SALARY_TO\"),\n",
    "    col(\"MIN_YEARS_EXPERIENCE\").alias(\"MIN_YEARS_EXPERIENCE\"),\n",
    "    col(\"MAX_YEARS_EXPERIENCE\").alias(\"MAX_YEARS_EXPERIENCE\"),\n",
    "    col(\"SKILLS\").alias(\"SKILLS\"),\n",
    "    col(\"SPECIALIZED_SKILLS\").alias(\"SPECIALIZED_SKILLS\"),\n",
    "    col(\"SOFTWARE_SKILLS\").alias(\"SOFTWARE_SKILLS\"),\n",
    "    col(\"EMPLOYMENT_TYPE_NAME\").alias(\"EMPLOYMENT_TYPE\"),\n",
    "    col(\"COMPANY\").alias(\"COMPANY_ID\") \n",
    ").distinct()\n",
    "job_postings_df.toPandas().to_csv(f\"{OUTPUT_DIR}/job_postings.csv\", index=False)"
   ]
  },
  {
   "cell_type": "code",
   "execution_count": 5,
   "id": "419f26af",
   "metadata": {},
   "outputs": [
    {
     "name": "stderr",
     "output_type": "stream",
     "text": [
      "                                                                                \r"
     ]
    }
   ],
   "source": [
    "job_location_df = df.select(\n",
    "    col(\"ID\").alias(\"JOB_ID\"),   \n",
    "    col(\"CITY_NAME\").alias(\"CITY\"),\n",
    "    col(\"STATE_NAME\").alias(\"STATE\"),\n",
    "    col(\"COUNTY_NAME\").alias(\"COUNTY\"),\n",
    "    col(\"LOCATION\").alias(\"LOCATION\")\n",
    ").distinct()\n",
    "job_location_df.toPandas().to_csv(f\"{OUTPUT_DIR}/job_location.csv\", index=False)"
   ]
  },
  {
   "cell_type": "code",
   "execution_count": 6,
   "id": "c6d421e5",
   "metadata": {},
   "outputs": [
    {
     "name": "stderr",
     "output_type": "stream",
     "text": [
      "                                                                                \r"
     ]
    }
   ],
   "source": [
    "\n",
    "soc_details_df = df.select(\n",
    "    col(\"ID\").alias(\"JOB_ID\"),  \n",
    "    col(\"SOC_2021_2\").alias(\"SOC_2\"),\n",
    "    col(\"SOC_2021_2_NAME\").alias(\"SOC_2_NAME\"),\n",
    "    col(\"SOC_2021_3\").alias(\"SOC_3\"),\n",
    "    col(\"SOC_2021_3_NAME\").alias(\"SOC_3_NAME\"),\n",
    "    col(\"SOC_2021_4\").alias(\"SOC_4\"),\n",
    "    col(\"SOC_2021_4_NAME\").alias(\"SOC_4_NAME\"),\n",
    "    col(\"SOC_2021_5\").alias(\"SOC_5\"),\n",
    "    col(\"SOC_2021_5_NAME\").alias(\"SOC_5_NAME\")\n",
    ").distinct()\n",
    "soc_details_df.toPandas().to_csv(f\"{OUTPUT_DIR}/soc_details.csv\", index=False)"
   ]
  },
  {
   "cell_type": "code",
   "execution_count": 7,
   "id": "92dc513b",
   "metadata": {},
   "outputs": [
    {
     "name": "stderr",
     "output_type": "stream",
     "text": [
      "                                                                                \r"
     ]
    }
   ],
   "source": [
    "lot_details_df = df.select(\n",
    "    col(\"ID\").alias(\"JOB_ID\"),  \n",
    "    col(\"LOT_CAREER_AREA\").alias(\"LOT_CAREER_AREA\"),\n",
    "    col(\"LOT_CAREER_AREA_NAME\").alias(\"LOT_CAREER_AREA_NAME\"),\n",
    "    col(\"LOT_OCCUPATION\").alias(\"LOT_OCCUPATION\"),\n",
    "    col(\"LOT_OCCUPATION_NAME\").alias(\"LOT_OCCUPATION_NAME\"),\n",
    "    col(\"LOT_SPECIALIZED_OCCUPATION\").alias(\"LOT_SPECIALIZED_OCCUPATION\"),\n",
    "    col(\"LOT_SPECIALIZED_OCCUPATION_NAME\").alias(\"LOT_SPECIALIZED_OCCUPATION_NAME\")\n",
    ").distinct()\n",
    "lot_details_df.toPandas().to_csv(f\"{OUTPUT_DIR}/lot_details.csv\", index=False)\n"
   ]
  },
  {
   "cell_type": "code",
   "execution_count": 8,
   "id": "2abd6ac9",
   "metadata": {},
   "outputs": [
    {
     "name": "stderr",
     "output_type": "stream",
     "text": [
      "                                                                                \r"
     ]
    }
   ],
   "source": [
    "naics_details_df = df.select(\n",
    "    col(\"ID\").alias(\"JOB_ID\"), \n",
    "    col(\"NAICS_2022_2\").alias(\"NAICS2\"),\n",
    "    col(\"NAICS_2022_2_NAME\").alias(\"NAICS2_NAME\"),\n",
    "    col(\"NAICS_2022_3\").alias(\"NAICS3\"),\n",
    "    col(\"NAICS_2022_3_NAME\").alias(\"NAICS3_NAME\"),\n",
    "    col(\"NAICS_2022_4\").alias(\"NAICS4\"),\n",
    "    col(\"NAICS_2022_4_NAME\").alias(\"NAICS4_NAME\"),\n",
    "    col(\"NAICS_2022_5\").alias(\"NAICS5\"),\n",
    "    col(\"NAICS_2022_5_NAME\").alias(\"NAICS5_NAME\"),\n",
    "    col(\"NAICS_2022_6\").alias(\"NAICS6\"),\n",
    "    col(\"NAICS_2022_6_NAME\").alias(\"NAICS6_NAME\")\n",
    ").distinct()\n",
    "naics_details_df.toPandas().to_csv(f\"{OUTPUT_DIR}/naics_details.csv\", index=False)\n",
    "\n",
    "spark.stop()"
   ]
  }
 ],
 "metadata": {
  "kernelspec": {
   "display_name": ".venv (3.9.23)",
   "language": "python",
   "name": "python3"
  },
  "language_info": {
   "codemirror_mode": {
    "name": "ipython",
    "version": 3
   },
   "file_extension": ".py",
   "mimetype": "text/x-python",
   "name": "python",
   "nbconvert_exporter": "python",
   "pygments_lexer": "ipython3",
   "version": "3.9.23"
  }
 },
 "nbformat": 4,
 "nbformat_minor": 5
}
